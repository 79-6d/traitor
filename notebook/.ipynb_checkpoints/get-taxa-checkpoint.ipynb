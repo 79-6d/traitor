{
 "cells": [
  {
   "cell_type": "markdown",
   "metadata": {
    "pycharm": {
     "name": "#%% md\n"
    }
   },
   "source": [
    "Read occurrence file from Darwin Core Archive"
   ]
  },
  {
   "cell_type": "code",
   "execution_count": 59,
   "metadata": {
    "collapsed": true
   },
   "outputs": [
    {
     "data": {
      "text/html": [
       "<div>\n",
       "<style scoped>\n",
       "    .dataframe tbody tr th:only-of-type {\n",
       "        vertical-align: middle;\n",
       "    }\n",
       "\n",
       "    .dataframe tbody tr th {\n",
       "        vertical-align: top;\n",
       "    }\n",
       "\n",
       "    .dataframe thead th {\n",
       "        text-align: right;\n",
       "    }\n",
       "</style>\n",
       "<table border=\"1\" class=\"dataframe\">\n",
       "  <thead>\n",
       "    <tr style=\"text-align: right;\">\n",
       "      <th></th>\n",
       "      <th>id</th>\n",
       "      <th>abstract</th>\n",
       "      <th>accessRights</th>\n",
       "      <th>accrualMethod</th>\n",
       "      <th>accrualPeriodicity</th>\n",
       "      <th>accrualPolicy</th>\n",
       "      <th>alternative</th>\n",
       "      <th>audience</th>\n",
       "      <th>available</th>\n",
       "      <th>bibliographicCitation</th>\n",
       "      <th>...</th>\n",
       "      <th>identifiedByID</th>\n",
       "      <th>level0Gid</th>\n",
       "      <th>level0Name</th>\n",
       "      <th>level1Gid</th>\n",
       "      <th>level1Name</th>\n",
       "      <th>level2Gid</th>\n",
       "      <th>level2Name</th>\n",
       "      <th>level3Gid</th>\n",
       "      <th>level3Name</th>\n",
       "      <th>geodeticDatum</th>\n",
       "    </tr>\n",
       "  </thead>\n",
       "  <tbody>\n",
       "    <tr>\n",
       "      <th>0</th>\n",
       "      <td>144763223</td>\n",
       "      <td>NaN</td>\n",
       "      <td>NaN</td>\n",
       "      <td>NaN</td>\n",
       "      <td>NaN</td>\n",
       "      <td>NaN</td>\n",
       "      <td>NaN</td>\n",
       "      <td>NaN</td>\n",
       "      <td>NaN</td>\n",
       "      <td>A. Atkinson, V. Siegel , E. Pakhomov, P. Rothe...</td>\n",
       "      <td>...</td>\n",
       "      <td>NaN</td>\n",
       "      <td>NaN</td>\n",
       "      <td>NaN</td>\n",
       "      <td>NaN</td>\n",
       "      <td>NaN</td>\n",
       "      <td>NaN</td>\n",
       "      <td>NaN</td>\n",
       "      <td>NaN</td>\n",
       "      <td>NaN</td>\n",
       "      <td>WGS84</td>\n",
       "    </tr>\n",
       "    <tr>\n",
       "      <th>1</th>\n",
       "      <td>144763222</td>\n",
       "      <td>NaN</td>\n",
       "      <td>NaN</td>\n",
       "      <td>NaN</td>\n",
       "      <td>NaN</td>\n",
       "      <td>NaN</td>\n",
       "      <td>NaN</td>\n",
       "      <td>NaN</td>\n",
       "      <td>NaN</td>\n",
       "      <td>A. Atkinson, V. Siegel , E. Pakhomov, P. Rothe...</td>\n",
       "      <td>...</td>\n",
       "      <td>NaN</td>\n",
       "      <td>NaN</td>\n",
       "      <td>NaN</td>\n",
       "      <td>NaN</td>\n",
       "      <td>NaN</td>\n",
       "      <td>NaN</td>\n",
       "      <td>NaN</td>\n",
       "      <td>NaN</td>\n",
       "      <td>NaN</td>\n",
       "      <td>WGS84</td>\n",
       "    </tr>\n",
       "    <tr>\n",
       "      <th>2</th>\n",
       "      <td>144763221</td>\n",
       "      <td>NaN</td>\n",
       "      <td>NaN</td>\n",
       "      <td>NaN</td>\n",
       "      <td>NaN</td>\n",
       "      <td>NaN</td>\n",
       "      <td>NaN</td>\n",
       "      <td>NaN</td>\n",
       "      <td>NaN</td>\n",
       "      <td>A. Atkinson, V. Siegel , E. Pakhomov, P. Rothe...</td>\n",
       "      <td>...</td>\n",
       "      <td>NaN</td>\n",
       "      <td>NaN</td>\n",
       "      <td>NaN</td>\n",
       "      <td>NaN</td>\n",
       "      <td>NaN</td>\n",
       "      <td>NaN</td>\n",
       "      <td>NaN</td>\n",
       "      <td>NaN</td>\n",
       "      <td>NaN</td>\n",
       "      <td>WGS84</td>\n",
       "    </tr>\n",
       "    <tr>\n",
       "      <th>3</th>\n",
       "      <td>144763220</td>\n",
       "      <td>NaN</td>\n",
       "      <td>NaN</td>\n",
       "      <td>NaN</td>\n",
       "      <td>NaN</td>\n",
       "      <td>NaN</td>\n",
       "      <td>NaN</td>\n",
       "      <td>NaN</td>\n",
       "      <td>NaN</td>\n",
       "      <td>A. Atkinson, V. Siegel , E. Pakhomov, P. Rothe...</td>\n",
       "      <td>...</td>\n",
       "      <td>NaN</td>\n",
       "      <td>NaN</td>\n",
       "      <td>NaN</td>\n",
       "      <td>NaN</td>\n",
       "      <td>NaN</td>\n",
       "      <td>NaN</td>\n",
       "      <td>NaN</td>\n",
       "      <td>NaN</td>\n",
       "      <td>NaN</td>\n",
       "      <td>WGS84</td>\n",
       "    </tr>\n",
       "    <tr>\n",
       "      <th>4</th>\n",
       "      <td>144763219</td>\n",
       "      <td>NaN</td>\n",
       "      <td>NaN</td>\n",
       "      <td>NaN</td>\n",
       "      <td>NaN</td>\n",
       "      <td>NaN</td>\n",
       "      <td>NaN</td>\n",
       "      <td>NaN</td>\n",
       "      <td>NaN</td>\n",
       "      <td>A. Atkinson, V. Siegel , E. Pakhomov, P. Rothe...</td>\n",
       "      <td>...</td>\n",
       "      <td>NaN</td>\n",
       "      <td>NaN</td>\n",
       "      <td>NaN</td>\n",
       "      <td>NaN</td>\n",
       "      <td>NaN</td>\n",
       "      <td>NaN</td>\n",
       "      <td>NaN</td>\n",
       "      <td>NaN</td>\n",
       "      <td>NaN</td>\n",
       "      <td>WGS84</td>\n",
       "    </tr>\n",
       "  </tbody>\n",
       "</table>\n",
       "<p>5 rows × 250 columns</p>\n",
       "</div>"
      ],
      "text/plain": [
       "          id  abstract  accessRights  accrualMethod  accrualPeriodicity  \\\n",
       "0  144763223       NaN           NaN            NaN                 NaN   \n",
       "1  144763222       NaN           NaN            NaN                 NaN   \n",
       "2  144763221       NaN           NaN            NaN                 NaN   \n",
       "3  144763220       NaN           NaN            NaN                 NaN   \n",
       "4  144763219       NaN           NaN            NaN                 NaN   \n",
       "\n",
       "   accrualPolicy  alternative  audience  available  \\\n",
       "0            NaN          NaN       NaN        NaN   \n",
       "1            NaN          NaN       NaN        NaN   \n",
       "2            NaN          NaN       NaN        NaN   \n",
       "3            NaN          NaN       NaN        NaN   \n",
       "4            NaN          NaN       NaN        NaN   \n",
       "\n",
       "                               bibliographicCitation  ...  identifiedByID  \\\n",
       "0  A. Atkinson, V. Siegel , E. Pakhomov, P. Rothe...  ...             NaN   \n",
       "1  A. Atkinson, V. Siegel , E. Pakhomov, P. Rothe...  ...             NaN   \n",
       "2  A. Atkinson, V. Siegel , E. Pakhomov, P. Rothe...  ...             NaN   \n",
       "3  A. Atkinson, V. Siegel , E. Pakhomov, P. Rothe...  ...             NaN   \n",
       "4  A. Atkinson, V. Siegel , E. Pakhomov, P. Rothe...  ...             NaN   \n",
       "\n",
       "   level0Gid  level0Name  level1Gid  level1Name  level2Gid  level2Name  \\\n",
       "0        NaN         NaN        NaN         NaN        NaN         NaN   \n",
       "1        NaN         NaN        NaN         NaN        NaN         NaN   \n",
       "2        NaN         NaN        NaN         NaN        NaN         NaN   \n",
       "3        NaN         NaN        NaN         NaN        NaN         NaN   \n",
       "4        NaN         NaN        NaN         NaN        NaN         NaN   \n",
       "\n",
       "   level3Gid  level3Name  geodeticDatum  \n",
       "0        NaN         NaN          WGS84  \n",
       "1        NaN         NaN          WGS84  \n",
       "2        NaN         NaN          WGS84  \n",
       "3        NaN         NaN          WGS84  \n",
       "4        NaN         NaN          WGS84  \n",
       "\n",
       "[5 rows x 250 columns]"
      ]
     },
     "execution_count": 59,
     "metadata": {},
     "output_type": "execute_result"
    }
   ],
   "source": [
    "import requests\n",
    "import time\n",
    "from dwca.read import DwCAReader\n",
    "\n",
    "with DwCAReader('../data/0115308-200613084148143.zip') as dwca:\n",
    "    occ = dwca.pd_read('occurrence.txt', parse_dates=False)\\\n",
    "\n",
    "occ.head(5)"
   ]
  },
  {
   "cell_type": "markdown",
   "metadata": {},
   "source": [
    "Get unique taxonKey from occurrences"
   ]
  },
  {
   "cell_type": "code",
   "execution_count": 60,
   "metadata": {
    "pycharm": {
     "name": "#%%\n"
    }
   },
   "outputs": [
    {
     "data": {
      "text/plain": [
       "{1, 54, 229, 868, 2073, 2228004, 2228010}"
      ]
     },
     "execution_count": 60,
     "metadata": {},
     "output_type": "execute_result"
    }
   ],
   "source": [
    "occ_taxa = occ[[\"scientificName\", \"taxonKey\", \"kingdomKey\", \"phylumKey\", \"classKey\", \"orderKey\", \"familyKey\",\n",
    "                \"genusKey\", \"subgenusKey\", \"speciesKey\", \"kingdom\", \"phylum\", \"class\", \"order\", \"family\", \"genus\",\n",
    "                \"subgenus\", \"specificEpithet\"]]\n",
    "# drop duplicated rows based on taxonKey\n",
    "occ_taxa.drop_duplicates(['taxonKey'])\n",
    "\n",
    "# all keys to list\n",
    "fields = [\"kingdomKey\", \"phylumKey\", \"classKey\", \"orderKey\", \"familyKey\", \"genusKey\", \"subgenusKey\", \"speciesKey\"]\n",
    "gbif_taxon_keys = list()\n",
    "for field in fields:\n",
    "    # drop all NA, all duplicate of that column and convert the column to list\n",
    "    gbif_taxon_keys.extend(occ_taxa[field].dropna().drop_duplicates().to_list())\n",
    "gbif_taxon_keys = set(gbif_taxon_keys)\n",
    "gbif_taxon_keys"
   ]
  },
  {
   "cell_type": "markdown",
   "metadata": {},
   "source": [
    "Get GBIF taxon information per taxonKey"
   ]
  },
  {
   "cell_type": "code",
   "execution_count": 63,
   "metadata": {
    "pycharm": {
     "name": "#%%\n"
    }
   },
   "outputs": [
    {
     "name": "stdout",
     "output_type": "stream",
     "text": [
      "{868: '1128', 2228004: '110673', 2228010: '236217', 2073: '110671'}\n"
     ]
    }
   ],
   "source": [
    "GBIF_BASE_URL = \"https://api.gbif.org/v1/species/\"\n",
    "WORMS_DATASET_KEY = \"2d59e5db-57ad-41ff-97d6-11f5fb264527\"  # this is the datasetKey of WoRMS checklist in GBIF\n",
    "aphia_ids = set()\n",
    "gbif_worms_map = dict()  # a dictionary with key = gbif taxonKey, value = aphiaID\n",
    "\n",
    "for gbif_taxon_key in gbif_taxon_keys:\n",
    "    time.sleep(0.5)\n",
    "    # url to get related name usages in other checklists\n",
    "    taxon_url = \"{}{}/related\".format(GBIF_BASE_URL, gbif_taxon_key)\n",
    "    response = requests.get(taxon_url)\n",
    "    if response.status_code == 200:\n",
    "        results = response.json().get(\"results\")\n",
    "        # might need to loop through next page if count is more than the limit\n",
    "        for taxon in results:\n",
    "            if taxon.get(\"datasetKey\") == WORMS_DATASET_KEY:\n",
    "                worms_taxon_id = taxon.get(\"taxonID\")  # lsid looks like 'urn:lsid:marinespecies.org:taxname:394119'\n",
    "                aphia_id = worms_taxon_id.split(\"taxname:\")[1]  # the integers behind 'taxname:' is the aphiaID\n",
    "                aphia_ids.add(aphia_id)\n",
    "                gbif_worms_map[gbif_taxon_key] = aphia_id\n",
    "\n",
    "print(gbif_worms_map)  # key = gbif taxonKey, value = aphiaID"
   ]
  },
  {
   "cell_type": "markdown",
   "metadata": {},
   "source": [
    "Get Aphia Attributes from WoRMS"
   ]
  },
  {
   "cell_type": "code",
   "execution_count": 62,
   "metadata": {
    "pycharm": {
     "name": "#%%\n"
    }
   },
   "outputs": [
    {
     "name": "stdout",
     "output_type": "stream",
     "text": [
      "http://marinespecies.org/rest/AphiaAttributesByAphiaID/236217?include_inherited=false\n",
      "http://marinespecies.org/rest/AphiaAttributesByAphiaID/1128?include_inherited=false\n",
      "http://marinespecies.org/rest/AphiaAttributesByAphiaID/110671?include_inherited=false\n",
      "http://marinespecies.org/rest/AphiaAttributesByAphiaID/110673?include_inherited=false\n",
      "{'236217': [{'AphiaID': '236217', 'measurementTypeID': 23, 'measurementType': 'Species importance to society', 'measurementValue': 'IUCN Red List', 'source_id': 127093, 'reference': 'IUCN Red List of Threatened Species', 'qualitystatus': 'unreviewed', 'AphiaID_Inherited': 236217, 'CategoryID': 13, 'children': [{'AphiaID': '236217', 'measurementTypeID': 1, 'measurementType': 'IUCN Red List Category', 'measurementValue': 'Least Concern', 'source_id': 127093, 'reference': 'IUCN Red List of Threatened Species', 'qualitystatus': 'unreviewed', 'AphiaID_Inherited': 236217, 'CategoryID': 1, 'children': [{'AphiaID': '236217', 'measurementTypeID': 3, 'measurementType': 'Year Assessed', 'measurementValue': '2015', 'source_id': 127093, 'reference': 'IUCN Red List of Threatened Species', 'qualitystatus': 'unreviewed', 'AphiaID_Inherited': 236217, 'CategoryID': None, 'children': []}]}]}], '1128': [{'AphiaID': '1128', 'measurementTypeID': 4, 'measurementType': 'Functional group', 'measurementValue': 'plankton > zooplankton', 'source_id': 40, 'reference': 'Brusca, R.C.; Brusca, G.J. (1990). Invertebrates. Sinauer Associates: Sunderland, MA (USA). ISBN 0-87893-098-1. 922 pp.', 'qualitystatus': 'unreviewed', 'AphiaID_Inherited': 1128, 'CategoryID': 7, 'children': [{'AphiaID': '1128', 'measurementTypeID': 12, 'measurementType': 'Stage', 'measurementValue': 'larva', 'source_id': 40, 'reference': 'Brusca, R.C.; Brusca, G.J. (1990). Invertebrates. Sinauer Associates: Sunderland, MA (USA). ISBN 0-87893-098-1. 922 pp.', 'qualitystatus': 'unreviewed', 'AphiaID_Inherited': 1128, 'CategoryID': 8, 'children': []}]}, {'AphiaID': '1128', 'measurementTypeID': 4, 'measurementType': 'Functional group', 'measurementValue': 'plankton > zooplankton', 'source_id': 40, 'reference': 'Brusca, R.C.; Brusca, G.J. (1990). Invertebrates. Sinauer Associates: Sunderland, MA (USA). ISBN 0-87893-098-1. 922 pp.', 'qualitystatus': 'unreviewed', 'AphiaID_Inherited': 1128, 'CategoryID': 7, 'children': [{'AphiaID': '1128', 'measurementTypeID': 12, 'measurementType': 'Stage', 'measurementValue': 'adult', 'source_id': 40, 'reference': 'Brusca, R.C.; Brusca, G.J. (1990). Invertebrates. Sinauer Associates: Sunderland, MA (USA). ISBN 0-87893-098-1. 922 pp.', 'qualitystatus': 'unreviewed', 'AphiaID_Inherited': 1128, 'CategoryID': 8, 'children': []}]}]}\n"
     ]
    }
   ],
   "source": [
    "WORMS_ATTR_BASE_URL = 'http://marinespecies.org/rest/AphiaAttributesByAphiaID/'\n",
    "aphia_attribute_dict = dict()\n",
    "\n",
    "for aphia_id in aphia_ids:\n",
    "    time.sleep(0.5)\n",
    "    worms_taxon_attr_url = \"{}{}?include_inherited=false\".format(WORMS_ATTR_BASE_URL,aphia_id)\n",
    "    print(worms_taxon_attr_url)\n",
    "    response = requests.get(worms_taxon_attr_url)\n",
    "    if response.status_code == 200:\n",
    "        results = response.json()\n",
    "        aphia_attribute_dict[aphia_id] = results\n",
    "\n",
    "print(aphia_attribute_dict)\n",
    "\n"
   ]
  },
  {
   "cell_type": "code",
   "execution_count": 62,
   "metadata": {
    "pycharm": {
     "name": "#%%\n"
    }
   },
   "outputs": [],
   "source": []
  }
 ],
 "metadata": {
  "kernelspec": {
   "display_name": "Python 3",
   "language": "python",
   "name": "python3"
  },
  "language_info": {
   "codemirror_mode": {
    "name": "ipython",
    "version": 3
   },
   "file_extension": ".py",
   "mimetype": "text/x-python",
   "name": "python",
   "nbconvert_exporter": "python",
   "pygments_lexer": "ipython3",
   "version": "3.7.7"
  }
 },
 "nbformat": 4,
 "nbformat_minor": 1
}
