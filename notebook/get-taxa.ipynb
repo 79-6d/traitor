{
 "cells": [
  {
   "cell_type": "markdown",
   "source": [
    "## Read occurrence of Darwin Core Archive"
   ],
   "metadata": {
    "collapsed": false,
    "pycharm": {
     "name": "#%% md\n"
    }
   }
  },
  {
   "cell_type": "code",
   "execution_count": 76,
   "metadata": {
    "collapsed": true
   },
   "outputs": [
    {
     "data": {
      "text/plain": "          id  abstract  accessRights  accrualMethod  accrualPeriodicity  \\\n0  144763223       NaN           NaN            NaN                 NaN   \n1  144763222       NaN           NaN            NaN                 NaN   \n2  144763221       NaN           NaN            NaN                 NaN   \n3  144763220       NaN           NaN            NaN                 NaN   \n4  144763219       NaN           NaN            NaN                 NaN   \n\n   accrualPolicy  alternative  audience  available  \\\n0            NaN          NaN       NaN        NaN   \n1            NaN          NaN       NaN        NaN   \n2            NaN          NaN       NaN        NaN   \n3            NaN          NaN       NaN        NaN   \n4            NaN          NaN       NaN        NaN   \n\n                               bibliographicCitation  ...  identifiedByID  \\\n0  A. Atkinson, V. Siegel , E. Pakhomov, P. Rothe...  ...             NaN   \n1  A. Atkinson, V. Siegel , E. Pakhomov, P. Rothe...  ...             NaN   \n2  A. Atkinson, V. Siegel , E. Pakhomov, P. Rothe...  ...             NaN   \n3  A. Atkinson, V. Siegel , E. Pakhomov, P. Rothe...  ...             NaN   \n4  A. Atkinson, V. Siegel , E. Pakhomov, P. Rothe...  ...             NaN   \n\n   level0Gid  level0Name  level1Gid  level1Name  level2Gid  level2Name  \\\n0        NaN         NaN        NaN         NaN        NaN         NaN   \n1        NaN         NaN        NaN         NaN        NaN         NaN   \n2        NaN         NaN        NaN         NaN        NaN         NaN   \n3        NaN         NaN        NaN         NaN        NaN         NaN   \n4        NaN         NaN        NaN         NaN        NaN         NaN   \n\n   level3Gid  level3Name  geodeticDatum  \n0        NaN         NaN          WGS84  \n1        NaN         NaN          WGS84  \n2        NaN         NaN          WGS84  \n3        NaN         NaN          WGS84  \n4        NaN         NaN          WGS84  \n\n[5 rows x 250 columns]",
      "text/html": "<div>\n<style scoped>\n    .dataframe tbody tr th:only-of-type {\n        vertical-align: middle;\n    }\n\n    .dataframe tbody tr th {\n        vertical-align: top;\n    }\n\n    .dataframe thead th {\n        text-align: right;\n    }\n</style>\n<table border=\"1\" class=\"dataframe\">\n  <thead>\n    <tr style=\"text-align: right;\">\n      <th></th>\n      <th>id</th>\n      <th>abstract</th>\n      <th>accessRights</th>\n      <th>accrualMethod</th>\n      <th>accrualPeriodicity</th>\n      <th>accrualPolicy</th>\n      <th>alternative</th>\n      <th>audience</th>\n      <th>available</th>\n      <th>bibliographicCitation</th>\n      <th>...</th>\n      <th>identifiedByID</th>\n      <th>level0Gid</th>\n      <th>level0Name</th>\n      <th>level1Gid</th>\n      <th>level1Name</th>\n      <th>level2Gid</th>\n      <th>level2Name</th>\n      <th>level3Gid</th>\n      <th>level3Name</th>\n      <th>geodeticDatum</th>\n    </tr>\n  </thead>\n  <tbody>\n    <tr>\n      <th>0</th>\n      <td>144763223</td>\n      <td>NaN</td>\n      <td>NaN</td>\n      <td>NaN</td>\n      <td>NaN</td>\n      <td>NaN</td>\n      <td>NaN</td>\n      <td>NaN</td>\n      <td>NaN</td>\n      <td>A. Atkinson, V. Siegel , E. Pakhomov, P. Rothe...</td>\n      <td>...</td>\n      <td>NaN</td>\n      <td>NaN</td>\n      <td>NaN</td>\n      <td>NaN</td>\n      <td>NaN</td>\n      <td>NaN</td>\n      <td>NaN</td>\n      <td>NaN</td>\n      <td>NaN</td>\n      <td>WGS84</td>\n    </tr>\n    <tr>\n      <th>1</th>\n      <td>144763222</td>\n      <td>NaN</td>\n      <td>NaN</td>\n      <td>NaN</td>\n      <td>NaN</td>\n      <td>NaN</td>\n      <td>NaN</td>\n      <td>NaN</td>\n      <td>NaN</td>\n      <td>A. Atkinson, V. Siegel , E. Pakhomov, P. Rothe...</td>\n      <td>...</td>\n      <td>NaN</td>\n      <td>NaN</td>\n      <td>NaN</td>\n      <td>NaN</td>\n      <td>NaN</td>\n      <td>NaN</td>\n      <td>NaN</td>\n      <td>NaN</td>\n      <td>NaN</td>\n      <td>WGS84</td>\n    </tr>\n    <tr>\n      <th>2</th>\n      <td>144763221</td>\n      <td>NaN</td>\n      <td>NaN</td>\n      <td>NaN</td>\n      <td>NaN</td>\n      <td>NaN</td>\n      <td>NaN</td>\n      <td>NaN</td>\n      <td>NaN</td>\n      <td>A. Atkinson, V. Siegel , E. Pakhomov, P. Rothe...</td>\n      <td>...</td>\n      <td>NaN</td>\n      <td>NaN</td>\n      <td>NaN</td>\n      <td>NaN</td>\n      <td>NaN</td>\n      <td>NaN</td>\n      <td>NaN</td>\n      <td>NaN</td>\n      <td>NaN</td>\n      <td>WGS84</td>\n    </tr>\n    <tr>\n      <th>3</th>\n      <td>144763220</td>\n      <td>NaN</td>\n      <td>NaN</td>\n      <td>NaN</td>\n      <td>NaN</td>\n      <td>NaN</td>\n      <td>NaN</td>\n      <td>NaN</td>\n      <td>NaN</td>\n      <td>A. Atkinson, V. Siegel , E. Pakhomov, P. Rothe...</td>\n      <td>...</td>\n      <td>NaN</td>\n      <td>NaN</td>\n      <td>NaN</td>\n      <td>NaN</td>\n      <td>NaN</td>\n      <td>NaN</td>\n      <td>NaN</td>\n      <td>NaN</td>\n      <td>NaN</td>\n      <td>WGS84</td>\n    </tr>\n    <tr>\n      <th>4</th>\n      <td>144763219</td>\n      <td>NaN</td>\n      <td>NaN</td>\n      <td>NaN</td>\n      <td>NaN</td>\n      <td>NaN</td>\n      <td>NaN</td>\n      <td>NaN</td>\n      <td>NaN</td>\n      <td>A. Atkinson, V. Siegel , E. Pakhomov, P. Rothe...</td>\n      <td>...</td>\n      <td>NaN</td>\n      <td>NaN</td>\n      <td>NaN</td>\n      <td>NaN</td>\n      <td>NaN</td>\n      <td>NaN</td>\n      <td>NaN</td>\n      <td>NaN</td>\n      <td>NaN</td>\n      <td>WGS84</td>\n    </tr>\n  </tbody>\n</table>\n<p>5 rows × 250 columns</p>\n</div>"
     },
     "execution_count": 76,
     "metadata": {},
     "output_type": "execute_result"
    }
   ],
   "source": [
    "import requests\n",
    "import time\n",
    "from dwca.read import DwCAReader\n",
    "\n",
    "with DwCAReader('../data/0115308-200613084148143.zip') as dwca:\n",
    "    occ = dwca.pd_read('occurrence.txt', parse_dates=False)\\\n",
    "\n",
    "occ.head(5)"
   ]
  },
  {
   "cell_type": "markdown",
   "source": [
    "## Get unique taxonKey from occurrences"
   ],
   "metadata": {
    "collapsed": false
   }
  },
  {
   "cell_type": "code",
   "execution_count": 77,
   "outputs": [
    {
     "data": {
      "text/plain": "{1, 54, 229, 868, 2073, 2228004, 2228010}"
     },
     "execution_count": 77,
     "metadata": {},
     "output_type": "execute_result"
    }
   ],
   "source": [
    "occ_taxa = occ[[\"scientificName\", \"taxonKey\", \"kingdomKey\", \"phylumKey\", \"classKey\", \"orderKey\", \"familyKey\",\n",
    "                \"genusKey\", \"subgenusKey\", \"speciesKey\", \"kingdom\", \"phylum\", \"class\", \"order\", \"family\", \"genus\",\n",
    "                \"subgenus\", \"specificEpithet\"]]\n",
    "# drop duplicated rows based on taxonKey\n",
    "occ_taxa.drop_duplicates(['taxonKey'])\n",
    "\n",
    "# to get a set of unique taxon keys (of all taxonomic ranks) of all the occurrence records in this dataset\n",
    "fields = [\"kingdomKey\", \"phylumKey\", \"classKey\", \"orderKey\", \"familyKey\", \"genusKey\", \"subgenusKey\", \"speciesKey\"]\n",
    "gbif_taxon_keys = list()\n",
    "for field in fields:\n",
    "    # drop all NA and all duplicates of that column and convert the column to list\n",
    "    gbif_taxon_keys.extend(occ_taxa[field].dropna().drop_duplicates().to_list())\n",
    "gbif_taxon_keys = set(gbif_taxon_keys)  # a set of unique taxon keys based on GBIF taxonomic backbone\n",
    "gbif_taxon_keys"
   ],
   "metadata": {
    "collapsed": false,
    "pycharm": {
     "name": "#%%\n"
    }
   }
  },
  {
   "cell_type": "markdown",
   "source": [
    "## Get AphiaID of taxonKey through GBIF taxonomic backbone\n",
    "\n",
    "1. Using GBIF species API `/species/{taxonKey}/related` to link all related name usages in other checklists.\n",
    "2. Loop through results to check if the `datasetKey` is identical to the uuid of WoRMS dataset UUID in GBIF.\n",
    "3. If identical, use regex to get AphiaID from the taxonID (e.g. LSID)"
   ],
   "metadata": {
    "collapsed": false
   }
  },
  {
   "cell_type": "code",
   "execution_count": 78,
   "outputs": [
    {
     "name": "stdout",
     "output_type": "stream",
     "text": [
      "URL for taxon 1: https://api.gbif.org/v1/species/1/related\n",
      "URL for taxon 868: https://api.gbif.org/v1/species/868/related\n",
      "URL for taxon 229: https://api.gbif.org/v1/species/229/related\n",
      "URL for taxon 2228004: https://api.gbif.org/v1/species/2228004/related\n",
      "URL for taxon 2228010: https://api.gbif.org/v1/species/2228010/related\n",
      "URL for taxon 54: https://api.gbif.org/v1/species/54/related\n",
      "URL for taxon 2073: https://api.gbif.org/v1/species/2073/related\n",
      "Dictionary with key = gbif taxonKey, value = aphiaID\n",
      " {868: '1128', 2228004: '110673', 2228010: '236217', 2073: '110671'}\n"
     ]
    }
   ],
   "source": [
    "GBIF_BASE_URL = \"https://api.gbif.org/v1/species/\"\n",
    "WORMS_DATASET_KEY = \"2d59e5db-57ad-41ff-97d6-11f5fb264527\"  # this is the datasetKey of WoRMS checklist in GBIF\n",
    "aphia_ids = set()\n",
    "gbif_worms_map = dict()  # a dictionary with key = gbif taxonKey, value = aphiaID\n",
    "\n",
    "for gbif_taxon_key in gbif_taxon_keys:\n",
    "    time.sleep(0.5)\n",
    "    # url to get related name usages in other checklists\n",
    "    taxon_url = \"{}{}/related\".format(GBIF_BASE_URL, gbif_taxon_key)\n",
    "    print(\"URL for taxon {}: {}\".format(gbif_taxon_key, taxon_url))\n",
    "    response = requests.get(taxon_url)\n",
    "    if response.status_code == 200:\n",
    "        results = response.json().get(\"results\")\n",
    "        # might need to loop through next page if count is more than the limit\n",
    "        for taxon in results:\n",
    "            if taxon.get(\"datasetKey\") == WORMS_DATASET_KEY:\n",
    "                worms_taxon_id = taxon.get(\"taxonID\")  # lsid looks like 'urn:lsid:marinespecies.org:taxname:394119'\n",
    "                aphia_id = worms_taxon_id.split(\"taxname:\")[1]  # the integers behind 'taxname:' is the aphiaID\n",
    "                aphia_ids.add(aphia_id)\n",
    "                gbif_worms_map[gbif_taxon_key] = aphia_id\n",
    "\n",
    "print('Dictionary with key = gbif taxonKey, value = aphiaID\\n', gbif_worms_map)"
   ],
   "metadata": {
    "collapsed": false,
    "pycharm": {
     "name": "#%%\n"
    }
   }
  },
  {
   "cell_type": "markdown",
   "source": [
    "## Get Aphia Attributes from WoRMS"
   ],
   "metadata": {
    "collapsed": false
   }
  },
  {
   "cell_type": "code",
   "execution_count": 79,
   "outputs": [
    {
     "name": "stdout",
     "output_type": "stream",
     "text": [
      "URL to attributes of taxon with AphiaID = 236217: http://marinespecies.org/rest/AphiaAttributesByAphiaID/236217?include_inherited=false\n",
      "URL to attributes of taxon with AphiaID = 1128: http://marinespecies.org/rest/AphiaAttributesByAphiaID/1128?include_inherited=false\n",
      "URL to attributes of taxon with AphiaID = 110671: http://marinespecies.org/rest/AphiaAttributesByAphiaID/110671?include_inherited=false\n",
      "URL to attributes of taxon with AphiaID = 110673: http://marinespecies.org/rest/AphiaAttributesByAphiaID/110673?include_inherited=false\n",
      "key = AphiaID, value = attributes of the taxon\n",
      " {'236217': [{'AphiaID': '236217', 'measurementTypeID': 23, 'measurementType': 'Species importance to society', 'measurementValue': 'IUCN Red List', 'source_id': 127093, 'reference': 'IUCN Red List of Threatened Species', 'qualitystatus': 'unreviewed', 'AphiaID_Inherited': 236217, 'CategoryID': 13, 'children': [{'AphiaID': '236217', 'measurementTypeID': 1, 'measurementType': 'IUCN Red List Category', 'measurementValue': 'Least Concern', 'source_id': 127093, 'reference': 'IUCN Red List of Threatened Species', 'qualitystatus': 'unreviewed', 'AphiaID_Inherited': 236217, 'CategoryID': 1, 'children': [{'AphiaID': '236217', 'measurementTypeID': 3, 'measurementType': 'Year Assessed', 'measurementValue': '2015', 'source_id': 127093, 'reference': 'IUCN Red List of Threatened Species', 'qualitystatus': 'unreviewed', 'AphiaID_Inherited': 236217, 'CategoryID': None, 'children': []}]}]}], '1128': [{'AphiaID': '1128', 'measurementTypeID': 4, 'measurementType': 'Functional group', 'measurementValue': 'plankton > zooplankton', 'source_id': 40, 'reference': 'Brusca, R.C.; Brusca, G.J. (1990). Invertebrates. Sinauer Associates: Sunderland, MA (USA). ISBN 0-87893-098-1. 922 pp.', 'qualitystatus': 'unreviewed', 'AphiaID_Inherited': 1128, 'CategoryID': 7, 'children': [{'AphiaID': '1128', 'measurementTypeID': 12, 'measurementType': 'Stage', 'measurementValue': 'larva', 'source_id': 40, 'reference': 'Brusca, R.C.; Brusca, G.J. (1990). Invertebrates. Sinauer Associates: Sunderland, MA (USA). ISBN 0-87893-098-1. 922 pp.', 'qualitystatus': 'unreviewed', 'AphiaID_Inherited': 1128, 'CategoryID': 8, 'children': []}]}, {'AphiaID': '1128', 'measurementTypeID': 4, 'measurementType': 'Functional group', 'measurementValue': 'plankton > zooplankton', 'source_id': 40, 'reference': 'Brusca, R.C.; Brusca, G.J. (1990). Invertebrates. Sinauer Associates: Sunderland, MA (USA). ISBN 0-87893-098-1. 922 pp.', 'qualitystatus': 'unreviewed', 'AphiaID_Inherited': 1128, 'CategoryID': 7, 'children': [{'AphiaID': '1128', 'measurementTypeID': 12, 'measurementType': 'Stage', 'measurementValue': 'adult', 'source_id': 40, 'reference': 'Brusca, R.C.; Brusca, G.J. (1990). Invertebrates. Sinauer Associates: Sunderland, MA (USA). ISBN 0-87893-098-1. 922 pp.', 'qualitystatus': 'unreviewed', 'AphiaID_Inherited': 1128, 'CategoryID': 8, 'children': []}]}]}\n"
     ]
    }
   ],
   "source": [
    "WORMS_ATTR_BASE_URL = 'http://marinespecies.org/rest/AphiaAttributesByAphiaID/'\n",
    "aphia_attribute_dict = dict()  # key = AphiaID, value = attributes of the taxon\n",
    "\n",
    "for aphia_id in aphia_ids:\n",
    "    time.sleep(0.5)\n",
    "    worms_taxon_attr_url = \"{}{}?include_inherited=false\".format(WORMS_ATTR_BASE_URL,aphia_id)\n",
    "    print('URL to attributes of taxon with AphiaID = {}: {}'.format(aphia_id, worms_taxon_attr_url))\n",
    "    response = requests.get(worms_taxon_attr_url)\n",
    "    if response.status_code == 200:\n",
    "        results = response.json()\n",
    "        aphia_attribute_dict[aphia_id] = results\n",
    "\n",
    "# key = AphiaID, value = attributes of the taxon\n",
    "print('key = AphiaID, value = attributes of the taxon\\n', aphia_attribute_dict)\n",
    "\n"
   ],
   "metadata": {
    "collapsed": false,
    "pycharm": {
     "name": "#%%\n"
    }
   }
  },
  {
   "cell_type": "code",
   "execution_count": 79,
   "outputs": [],
   "source": [],
   "metadata": {
    "collapsed": false,
    "pycharm": {
     "name": "#%%\n"
    }
   }
  }
 ],
 "metadata": {
  "kernelspec": {
   "display_name": "Python 3",
   "language": "python",
   "name": "python3"
  },
  "language_info": {
   "codemirror_mode": {
    "name": "ipython",
    "version": 2
   },
   "file_extension": ".py",
   "mimetype": "text/x-python",
   "name": "python",
   "nbconvert_exporter": "python",
   "pygments_lexer": "ipython2",
   "version": "2.7.6"
  }
 },
 "nbformat": 4,
 "nbformat_minor": 0
}